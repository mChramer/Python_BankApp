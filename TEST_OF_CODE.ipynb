{
 "cells": [
  {
   "cell_type": "code",
   "execution_count": 1,
   "id": "700b27c3",
   "metadata": {},
   "outputs": [],
   "source": [
    "from BANK_CLASS import *"
   ]
  },
  {
   "cell_type": "code",
   "execution_count": 2,
   "id": "227d3689",
   "metadata": {},
   "outputs": [],
   "source": [
    "bank = Bank(\"Nya Banken\")"
   ]
  },
  {
   "cell_type": "code",
   "execution_count": 3,
   "id": "d4c81247",
   "metadata": {},
   "outputs": [],
   "source": [
    "bank.add_customer(\"Caramell\", \"2007\")\n",
    "bank.add_customer(\"Stella\", \"2017\")\n",
    "bank.add_customer(\"Gimli\", \"2010\")\n",
    "bank.add_customer(\"Lego\", \"2012\")\n",
    "bank.add_customer(\"Rambo\", \"2022\")\n",
    "bank.add_customer(\"Izidor\", \"2018\")"
   ]
  },
  {
   "cell_type": "code",
   "execution_count": 4,
   "id": "e2869ae0",
   "metadata": {},
   "outputs": [],
   "source": [
    "bank.save_customer()"
   ]
  },
  {
   "cell_type": "code",
   "execution_count": 5,
   "id": "0eccedb1",
   "metadata": {},
   "outputs": [
    {
     "name": "stdout",
     "output_type": "stream",
     "text": [
      "Customer: Caramell, Password: 2007\n",
      "Customer: Stella, Password: 2017\n",
      "Customer: Gimli, Password: 2010\n",
      "Customer: Lego, Password: 2012\n",
      "Customer: Rambo, Password: 2022\n",
      "Customer: Izidor, Password: 2018\n"
     ]
    }
   ],
   "source": [
    "bank.load_customer()"
   ]
  },
  {
   "cell_type": "code",
   "execution_count": 6,
   "id": "ba565907",
   "metadata": {},
   "outputs": [
    {
     "name": "stdout",
     "output_type": "stream",
     "text": [
      "Customer removed.\n"
     ]
    }
   ],
   "source": [
    "bank.remove_customer(\"Izidor\")"
   ]
  },
  {
   "cell_type": "code",
   "execution_count": 7,
   "id": "91152918",
   "metadata": {},
   "outputs": [
    {
     "data": {
      "text/plain": [
       "False"
      ]
     },
     "execution_count": 7,
     "metadata": {},
     "output_type": "execute_result"
    }
   ],
   "source": [
    "bank.get_customer(\"Buddha\")"
   ]
  },
  {
   "cell_type": "code",
   "execution_count": 8,
   "id": "129a341d",
   "metadata": {},
   "outputs": [
    {
     "data": {
      "text/plain": [
       "username = Rambo, password = 2022"
      ]
     },
     "execution_count": 8,
     "metadata": {},
     "output_type": "execute_result"
    }
   ],
   "source": [
    "bank.get_customer(\"Rambo\")"
   ]
  },
  {
   "cell_type": "code",
   "execution_count": 9,
   "id": "0587f957",
   "metadata": {},
   "outputs": [
    {
     "name": "stdout",
     "output_type": "stream",
     "text": [
      "Username: Caramell, password: 2007\n",
      "Username: Stella, password: 2017\n",
      "Username: Gimli, password: 2010\n",
      "Username: Lego, password: 2012\n",
      "Username: Rambo, password: 2022\n"
     ]
    }
   ],
   "source": [
    "bank.get_customers()"
   ]
  },
  {
   "cell_type": "code",
   "execution_count": 10,
   "id": "1624801a",
   "metadata": {},
   "outputs": [
    {
     "data": {
      "text/plain": [
       "False"
      ]
     },
     "execution_count": 10,
     "metadata": {},
     "output_type": "execute_result"
    }
   ],
   "source": [
    "bank.login(\"Gimli\", \"2022\")"
   ]
  },
  {
   "cell_type": "code",
   "execution_count": 11,
   "id": "9de6b6c8",
   "metadata": {},
   "outputs": [
    {
     "data": {
      "text/plain": [
       "True"
      ]
     },
     "execution_count": 11,
     "metadata": {},
     "output_type": "execute_result"
    }
   ],
   "source": [
    "bank.login(\"Gimli\", \"2010\")"
   ]
  },
  {
   "cell_type": "code",
   "execution_count": 12,
   "id": "fcd6174b",
   "metadata": {},
   "outputs": [
    {
     "data": {
      "text/plain": [
       "True"
      ]
     },
     "execution_count": 12,
     "metadata": {},
     "output_type": "execute_result"
    }
   ],
   "source": [
    "bank.online()"
   ]
  },
  {
   "cell_type": "code",
   "execution_count": 13,
   "id": "30b051b9",
   "metadata": {},
   "outputs": [
    {
     "data": {
      "text/plain": [
       "False"
      ]
     },
     "execution_count": 13,
     "metadata": {},
     "output_type": "execute_result"
    }
   ],
   "source": [
    "bank.change_customer_password(\"Lurvas\", \"17\")"
   ]
  },
  {
   "cell_type": "code",
   "execution_count": 14,
   "id": "2d32e4e5",
   "metadata": {},
   "outputs": [
    {
     "name": "stdout",
     "output_type": "stream",
     "text": [
      "Password changed.\n"
     ]
    },
    {
     "data": {
      "text/plain": [
       "username = Gimli, password = 11"
      ]
     },
     "execution_count": 14,
     "metadata": {},
     "output_type": "execute_result"
    }
   ],
   "source": [
    "bank.change_customer_password(\"Gimli\", \"11\")"
   ]
  },
  {
   "cell_type": "code",
   "execution_count": 15,
   "id": "5c24b2f2",
   "metadata": {},
   "outputs": [
    {
     "name": "stdout",
     "output_type": "stream",
     "text": [
      "Account added.\n",
      "Account added.\n",
      "Account added.\n",
      "Account added.\n"
     ]
    }
   ],
   "source": [
    "bank.add_account()\n",
    "bank.add_account()\n",
    "bank.add_account()\n",
    "bank.add_account(999)"
   ]
  },
  {
   "cell_type": "code",
   "execution_count": 16,
   "id": "e770be1e",
   "metadata": {},
   "outputs": [
    {
     "data": {
      "text/plain": [
       "False"
      ]
     },
     "execution_count": 16,
     "metadata": {},
     "output_type": "execute_result"
    }
   ],
   "source": [
    "bank.get_account(10)"
   ]
  },
  {
   "cell_type": "code",
   "execution_count": 17,
   "id": "5261f6ae",
   "metadata": {},
   "outputs": [
    {
     "data": {
      "text/plain": [
       "account number = 2, balance = 0"
      ]
     },
     "execution_count": 17,
     "metadata": {},
     "output_type": "execute_result"
    }
   ],
   "source": [
    "bank.get_account(2)"
   ]
  },
  {
   "cell_type": "code",
   "execution_count": 18,
   "id": "f67bd043",
   "metadata": {},
   "outputs": [
    {
     "data": {
      "text/plain": [
       "True"
      ]
     },
     "execution_count": 18,
     "metadata": {},
     "output_type": "execute_result"
    }
   ],
   "source": [
    "bank.remove_account(3)"
   ]
  },
  {
   "cell_type": "code",
   "execution_count": 19,
   "id": "84ba031d",
   "metadata": {},
   "outputs": [
    {
     "data": {
      "text/plain": [
       "[account number = 1, balance = 0,\n",
       " account number = 2, balance = 0,\n",
       " account number = 4, balance = 999]"
      ]
     },
     "execution_count": 19,
     "metadata": {},
     "output_type": "execute_result"
    }
   ],
   "source": [
    "bank.get_accounts()"
   ]
  },
  {
   "cell_type": "code",
   "execution_count": 20,
   "id": "2f93a0ac",
   "metadata": {},
   "outputs": [
    {
     "name": "stdout",
     "output_type": "stream",
     "text": [
      "Deposit succeeded!\n",
      "Deposit succeeded!\n",
      "Account with number 3 not found.\n"
     ]
    }
   ],
   "source": [
    "bank.deposit(1, 100)\n",
    "bank.deposit(2, 50)\n",
    "bank.deposit(3, 10)"
   ]
  },
  {
   "cell_type": "code",
   "execution_count": 21,
   "id": "a7b06fd1",
   "metadata": {},
   "outputs": [
    {
     "name": "stdout",
     "output_type": "stream",
     "text": [
      "Withdraw succeeded!\n",
      "Insufficient funds.\n",
      "Account with number 3 not found.\n",
      "It can't be a negative number.\n"
     ]
    }
   ],
   "source": [
    "bank.withdraw(1, 50)\n",
    "bank.withdraw(2, 60)\n",
    "bank.withdraw(3, 5)\n",
    "bank.withdraw(1, -50)"
   ]
  },
  {
   "cell_type": "code",
   "execution_count": 22,
   "id": "37a7d22f",
   "metadata": {},
   "outputs": [
    {
     "data": {
      "text/plain": [
       "[account number = 1, balance = 50,\n",
       " account number = 2, balance = 50,\n",
       " account number = 4, balance = 999]"
      ]
     },
     "execution_count": 22,
     "metadata": {},
     "output_type": "execute_result"
    }
   ],
   "source": [
    "bank.get_accounts()"
   ]
  },
  {
   "cell_type": "code",
   "execution_count": 23,
   "id": "feac596d",
   "metadata": {},
   "outputs": [],
   "source": [
    "bank.save_customer()"
   ]
  },
  {
   "cell_type": "code",
   "execution_count": 24,
   "id": "baf62310",
   "metadata": {},
   "outputs": [
    {
     "name": "stdout",
     "output_type": "stream",
     "text": [
      "Customer: Caramell, Password: 2007\n",
      "Customer: Stella, Password: 2017\n",
      "Customer: Gimli, Password: 11\n",
      "Account: 1, Balance: 50\n",
      "Account: 2, Balance: 50\n",
      "Account: 4, Balance: 999\n",
      "Customer: Lego, Password: 2012\n",
      "Customer: Rambo, Password: 2022\n"
     ]
    }
   ],
   "source": [
    "bank.load_customer()"
   ]
  },
  {
   "cell_type": "code",
   "execution_count": 25,
   "id": "a57df823",
   "metadata": {},
   "outputs": [
    {
     "data": {
      "text/plain": [
       "True"
      ]
     },
     "execution_count": 25,
     "metadata": {},
     "output_type": "execute_result"
    }
   ],
   "source": [
    "bank.logout()"
   ]
  },
  {
   "cell_type": "code",
   "execution_count": 26,
   "id": "96128fed",
   "metadata": {},
   "outputs": [
    {
     "data": {
      "text/plain": [
       "True"
      ]
     },
     "execution_count": 26,
     "metadata": {},
     "output_type": "execute_result"
    }
   ],
   "source": [
    "bank.login(\"Caramell\", \"2007\")"
   ]
  },
  {
   "cell_type": "code",
   "execution_count": 27,
   "id": "ede24100",
   "metadata": {},
   "outputs": [
    {
     "name": "stdout",
     "output_type": "stream",
     "text": [
      "Account added.\n",
      "Account added.\n",
      "Account added.\n",
      "Account added.\n"
     ]
    }
   ],
   "source": [
    "bank.add_account(459)\n",
    "bank.add_account(1789)\n",
    "bank.add_account(25)\n",
    "bank.add_account(999)"
   ]
  },
  {
   "cell_type": "code",
   "execution_count": 28,
   "id": "fd802c59",
   "metadata": {},
   "outputs": [],
   "source": [
    "bank.save_customer()"
   ]
  },
  {
   "cell_type": "code",
   "execution_count": 29,
   "id": "0dd20696",
   "metadata": {},
   "outputs": [
    {
     "name": "stdout",
     "output_type": "stream",
     "text": [
      "Customer: Caramell, Password: 2007\n",
      "Account: 1, Balance: 459\n",
      "Account: 2, Balance: 1789\n",
      "Account: 3, Balance: 25\n",
      "Account: 4, Balance: 999\n",
      "Customer: Stella, Password: 2017\n",
      "Customer: Gimli, Password: 11\n",
      "Account: 1, Balance: 50\n",
      "Account: 2, Balance: 50\n",
      "Account: 4, Balance: 999\n",
      "Customer: Lego, Password: 2012\n",
      "Customer: Rambo, Password: 2022\n"
     ]
    }
   ],
   "source": [
    "bank.load_customer()"
   ]
  },
  {
   "cell_type": "code",
   "execution_count": null,
   "id": "41205cf1",
   "metadata": {},
   "outputs": [],
   "source": []
  }
 ],
 "metadata": {
  "kernelspec": {
   "display_name": "Python 3 (ipykernel)",
   "language": "python",
   "name": "python3"
  },
  "language_info": {
   "codemirror_mode": {
    "name": "ipython",
    "version": 3
   },
   "file_extension": ".py",
   "mimetype": "text/x-python",
   "name": "python",
   "nbconvert_exporter": "python",
   "pygments_lexer": "ipython3",
   "version": "3.9.13"
  }
 },
 "nbformat": 4,
 "nbformat_minor": 5
}
